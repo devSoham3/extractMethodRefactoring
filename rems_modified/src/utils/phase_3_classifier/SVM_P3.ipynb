{
 "cells": [
  {
   "cell_type": "code",
   "execution_count": 6,
   "id": "5566bff2",
   "metadata": {},
   "outputs": [],
   "source": [
    "import numpy as np\n",
    "from sklearn.datasets import load_iris\n",
    "from sklearn.decomposition import PCA\n",
    "from sklearn.discriminant_analysis import LinearDiscriminantAnalysis as LDA\n",
    "from xgboost import XGBClassifier\n",
    "from sklearn.neighbors import KNeighborsClassifier\n",
    "from sklearn.svm import SVC\n",
    "from sklearn.model_selection import KFold\n",
    "from sklearn.metrics import classification_report, precision_score, recall_score, f1_score\n",
    "from sklearn.model_selection import train_test_split, GridSearchCV\n",
    "from imblearn.over_sampling import SMOTE\n",
    "from collections import Counter\n",
    "import pandas as pd\n",
    "import sys\n",
    "import datetime\n",
    "import time\n",
    "import csv\n",
    "import pathlib\n",
    "import os"
   ]
  },
  {
   "cell_type": "code",
   "execution_count": 7,
   "id": "230f68f9",
   "metadata": {},
   "outputs": [],
   "source": [
    "\n",
    "def KFold_Validation(X, y, nSplits = 5):\n",
    "    \n",
    "    # Initialize the K-fold cross-validator\n",
    "    kf = KFold(n_splits = nSplits, shuffle = True, random_state = 42)\n",
    "    \n",
    "    Testing_Results = {}\n",
    "\n",
    "    for i, (train_index, test_index) in enumerate(kf.split(X)):\n",
    "        \n",
    "        # Split the data into training and testing sets for this fold\n",
    "        print(\"KFlod : \", i)\n",
    "        X_t, X_test = X.iloc[train_index], X.iloc[test_index]\n",
    "        y_t, y_test = y.iloc[train_index], y.iloc[test_index]\n",
    "\n",
    "        smo = SMOTE(random_state=42)\n",
    "        X_train, y_train = smo.fit_resample(X_t, y_t)\n",
    "        \n",
    "        # Train the model \n",
    "        model = train(X_train, y_train)\n",
    "    \n",
    "        # Test the model\n",
    "        precision, recall, f1 = test(X_test, y_test, model)\n",
    "        \n",
    "        # Store the results\n",
    "        Testing_Results[i] = (precision, recall, f1)\n",
    "        \n",
    "    return Testing_Results"
   ]
  },
  {
   "cell_type": "code",
   "execution_count": 8,
   "id": "0b4a42ee",
   "metadata": {},
   "outputs": [],
   "source": [
    "'''\n",
    "    Change the train method according to classifier used\n",
    "'''\n",
    "\n",
    "def train(X_train, y_train):\n",
    "    \"\"\"\n",
    "    :param X_train:\n",
    "    :param y_train:\n",
    "    :return: None\n",
    "    \"\"\"\n",
    "    tuned_parameters = [{'kernel': ['rbf'], 'gamma': [1e-3], 'C': [100, 1000]},\n",
    "                        {'kernel': ['linear'], 'C': [1, 10]}]\n",
    "    print(\"Start training : \" + \"\\n\")\n",
    "    grid = GridSearchCV(SVC(), tuned_parameters, cv=5, scoring='roc_auc', verbose=2, n_jobs=4)\n",
    "    model = grid.fit(X_train, y_train)\n",
    "    return model"
   ]
  },
  {
   "cell_type": "code",
   "execution_count": 9,
   "id": "d0e4f05d",
   "metadata": {},
   "outputs": [],
   "source": [
    "def test(X_test, y_test, estimator):\n",
    "    \n",
    "    y_pre = estimator.predict(X_test)\n",
    "    precision = precision_score(y_test, y_pre, labels=None, pos_label=1, average='binary', sample_weight=None)\n",
    "    recall = recall_score(y_test, y_pre, labels=None, pos_label=1, average='binary', sample_weight=None)\n",
    "    f1 = f1_score(y_test, y_pre, labels=None, pos_label=1, average='binary', sample_weight=None)\n",
    "\n",
    "    # precision = precision_score(y_test, y_pre, labels=None, average='macro', sample_weight=None)\n",
    "    # recall = recall_score(y_test, y_pre, labels=None, average='macro', sample_weight=None)\n",
    "    # f1 = f1_score(y_test, y_pre, labels=None, average='macro', sample_weight=None)\n",
    "\n",
    "\n",
    "    print(\"precision: {:.3}, recall: {:.3}, f1:{:.3}, \\n\".format(precision, recall, f1))\n",
    "          \n",
    "    return precision, recall, f1"
   ]
  },
  {
   "cell_type": "markdown",
   "id": "9dd0ad3c",
   "metadata": {},
   "source": [
    "## Automation"
   ]
  },
  {
   "cell_type": "code",
   "execution_count": 16,
   "id": "63c4111f",
   "metadata": {
    "scrolled": true
   },
   "outputs": [
    {
     "name": "stdout",
     "output_type": "stream",
     "text": [
      "PLBART\n",
      "\tdeepwalk_cg\n",
      "\tgrarep_cg\n",
      "KFlod :  0\n",
      "Start training : \n",
      "\n",
      "Fitting 5 folds for each of 4 candidates, totalling 20 fits\n",
      "precision: 0.0, recall: 0.0, f1:0.0, \n",
      "\n",
      "KFlod :  1\n",
      "Start training : \n",
      "\n",
      "Fitting 5 folds for each of 4 candidates, totalling 20 fits\n",
      "precision: 0.0, recall: 0.0, f1:0.0, \n",
      "\n",
      "KFlod :  2\n",
      "Start training : \n",
      "\n",
      "Fitting 5 folds for each of 4 candidates, totalling 20 fits\n"
     ]
    },
    {
     "name": "stderr",
     "output_type": "stream",
     "text": [
      "C:\\Users\\manoh\\anaconda3\\lib\\site-packages\\sklearn\\metrics\\_classification.py:1327: UndefinedMetricWarning: Precision is ill-defined and being set to 0.0 due to no predicted samples. Use `zero_division` parameter to control this behavior.\n",
      "  _warn_prf(average, modifier, msg_start, len(result))\n"
     ]
    },
    {
     "name": "stdout",
     "output_type": "stream",
     "text": [
      "precision: 0.0, recall: 0.0, f1:0.0, \n",
      "\n",
      "KFlod :  3\n",
      "Start training : \n",
      "\n",
      "Fitting 5 folds for each of 4 candidates, totalling 20 fits\n"
     ]
    },
    {
     "name": "stderr",
     "output_type": "stream",
     "text": [
      "C:\\Users\\manoh\\anaconda3\\lib\\site-packages\\sklearn\\metrics\\_classification.py:1327: UndefinedMetricWarning: Precision is ill-defined and being set to 0.0 due to no predicted samples. Use `zero_division` parameter to control this behavior.\n",
      "  _warn_prf(average, modifier, msg_start, len(result))\n"
     ]
    },
    {
     "name": "stdout",
     "output_type": "stream",
     "text": [
      "precision: 0.0, recall: 0.0, f1:0.0, \n",
      "\n",
      "KFlod :  4\n",
      "Start training : \n",
      "\n",
      "Fitting 5 folds for each of 4 candidates, totalling 20 fits\n"
     ]
    },
    {
     "name": "stderr",
     "output_type": "stream",
     "text": [
      "C:\\Users\\manoh\\anaconda3\\lib\\site-packages\\sklearn\\metrics\\_classification.py:1327: UndefinedMetricWarning: Precision is ill-defined and being set to 0.0 due to no predicted samples. Use `zero_division` parameter to control this behavior.\n",
      "  _warn_prf(average, modifier, msg_start, len(result))\n"
     ]
    },
    {
     "name": "stdout",
     "output_type": "stream",
     "text": [
      "precision: 0.0, recall: 0.0, f1:0.0, \n",
      "\n",
      "KFlod :  5\n",
      "Start training : \n",
      "\n",
      "Fitting 5 folds for each of 4 candidates, totalling 20 fits\n"
     ]
    },
    {
     "name": "stderr",
     "output_type": "stream",
     "text": [
      "C:\\Users\\manoh\\anaconda3\\lib\\site-packages\\sklearn\\metrics\\_classification.py:1327: UndefinedMetricWarning: Precision is ill-defined and being set to 0.0 due to no predicted samples. Use `zero_division` parameter to control this behavior.\n",
      "  _warn_prf(average, modifier, msg_start, len(result))\n"
     ]
    },
    {
     "name": "stdout",
     "output_type": "stream",
     "text": [
      "precision: 0.0, recall: 0.0, f1:0.0, \n",
      "\n",
      "KFlod :  6\n",
      "Start training : \n",
      "\n",
      "Fitting 5 folds for each of 4 candidates, totalling 20 fits\n"
     ]
    },
    {
     "name": "stderr",
     "output_type": "stream",
     "text": [
      "C:\\Users\\manoh\\anaconda3\\lib\\site-packages\\sklearn\\metrics\\_classification.py:1327: UndefinedMetricWarning: Precision is ill-defined and being set to 0.0 due to no predicted samples. Use `zero_division` parameter to control this behavior.\n",
      "  _warn_prf(average, modifier, msg_start, len(result))\n"
     ]
    },
    {
     "name": "stdout",
     "output_type": "stream",
     "text": [
      "precision: 0.0, recall: 0.0, f1:0.0, \n",
      "\n",
      "KFlod :  7\n",
      "Start training : \n",
      "\n",
      "Fitting 5 folds for each of 4 candidates, totalling 20 fits\n",
      "precision: 0.0, recall: 0.0, f1:0.0, \n",
      "\n",
      "KFlod :  8\n",
      "Start training : \n",
      "\n",
      "Fitting 5 folds for each of 4 candidates, totalling 20 fits\n"
     ]
    },
    {
     "name": "stderr",
     "output_type": "stream",
     "text": [
      "C:\\Users\\manoh\\anaconda3\\lib\\site-packages\\sklearn\\metrics\\_classification.py:1327: UndefinedMetricWarning: Precision is ill-defined and being set to 0.0 due to no predicted samples. Use `zero_division` parameter to control this behavior.\n",
      "  _warn_prf(average, modifier, msg_start, len(result))\n"
     ]
    },
    {
     "name": "stdout",
     "output_type": "stream",
     "text": [
      "precision: 0.0, recall: 0.0, f1:0.0, \n",
      "\n",
      "KFlod :  9\n",
      "Start training : \n",
      "\n",
      "Fitting 5 folds for each of 4 candidates, totalling 20 fits\n",
      "precision: 0.0, recall: 0.0, f1:0.0, \n",
      "\n",
      "Elapsed time:  1.106  Minutes\n",
      "\tline_cg\n",
      "KFlod :  0\n",
      "Start training : \n",
      "\n",
      "Fitting 5 folds for each of 4 candidates, totalling 20 fits\n"
     ]
    },
    {
     "name": "stderr",
     "output_type": "stream",
     "text": [
      "C:\\Users\\manoh\\anaconda3\\lib\\site-packages\\sklearn\\metrics\\_classification.py:1327: UndefinedMetricWarning: Precision is ill-defined and being set to 0.0 due to no predicted samples. Use `zero_division` parameter to control this behavior.\n",
      "  _warn_prf(average, modifier, msg_start, len(result))\n"
     ]
    },
    {
     "name": "stdout",
     "output_type": "stream",
     "text": [
      "precision: 0.0, recall: 0.0, f1:0.0, \n",
      "\n",
      "KFlod :  1\n",
      "Start training : \n",
      "\n",
      "Fitting 5 folds for each of 4 candidates, totalling 20 fits\n"
     ]
    },
    {
     "name": "stderr",
     "output_type": "stream",
     "text": [
      "C:\\Users\\manoh\\anaconda3\\lib\\site-packages\\sklearn\\metrics\\_classification.py:1327: UndefinedMetricWarning: Precision is ill-defined and being set to 0.0 due to no predicted samples. Use `zero_division` parameter to control this behavior.\n",
      "  _warn_prf(average, modifier, msg_start, len(result))\n"
     ]
    },
    {
     "name": "stdout",
     "output_type": "stream",
     "text": [
      "precision: 0.0, recall: 0.0, f1:0.0, \n",
      "\n",
      "KFlod :  2\n",
      "Start training : \n",
      "\n",
      "Fitting 5 folds for each of 4 candidates, totalling 20 fits\n"
     ]
    },
    {
     "name": "stderr",
     "output_type": "stream",
     "text": [
      "C:\\Users\\manoh\\anaconda3\\lib\\site-packages\\sklearn\\metrics\\_classification.py:1327: UndefinedMetricWarning: Precision is ill-defined and being set to 0.0 due to no predicted samples. Use `zero_division` parameter to control this behavior.\n",
      "  _warn_prf(average, modifier, msg_start, len(result))\n"
     ]
    },
    {
     "name": "stdout",
     "output_type": "stream",
     "text": [
      "precision: 0.0, recall: 0.0, f1:0.0, \n",
      "\n",
      "KFlod :  3\n",
      "Start training : \n",
      "\n",
      "Fitting 5 folds for each of 4 candidates, totalling 20 fits\n"
     ]
    },
    {
     "name": "stderr",
     "output_type": "stream",
     "text": [
      "C:\\Users\\manoh\\anaconda3\\lib\\site-packages\\sklearn\\metrics\\_classification.py:1327: UndefinedMetricWarning: Precision is ill-defined and being set to 0.0 due to no predicted samples. Use `zero_division` parameter to control this behavior.\n",
      "  _warn_prf(average, modifier, msg_start, len(result))\n"
     ]
    },
    {
     "name": "stdout",
     "output_type": "stream",
     "text": [
      "precision: 0.0, recall: 0.0, f1:0.0, \n",
      "\n",
      "KFlod :  4\n",
      "Start training : \n",
      "\n",
      "Fitting 5 folds for each of 4 candidates, totalling 20 fits\n"
     ]
    },
    {
     "name": "stderr",
     "output_type": "stream",
     "text": [
      "C:\\Users\\manoh\\anaconda3\\lib\\site-packages\\sklearn\\metrics\\_classification.py:1327: UndefinedMetricWarning: Precision is ill-defined and being set to 0.0 due to no predicted samples. Use `zero_division` parameter to control this behavior.\n",
      "  _warn_prf(average, modifier, msg_start, len(result))\n"
     ]
    },
    {
     "name": "stdout",
     "output_type": "stream",
     "text": [
      "precision: 0.0, recall: 0.0, f1:0.0, \n",
      "\n",
      "KFlod :  5\n",
      "Start training : \n",
      "\n",
      "Fitting 5 folds for each of 4 candidates, totalling 20 fits\n"
     ]
    },
    {
     "name": "stderr",
     "output_type": "stream",
     "text": [
      "C:\\Users\\manoh\\anaconda3\\lib\\site-packages\\sklearn\\metrics\\_classification.py:1327: UndefinedMetricWarning: Precision is ill-defined and being set to 0.0 due to no predicted samples. Use `zero_division` parameter to control this behavior.\n",
      "  _warn_prf(average, modifier, msg_start, len(result))\n"
     ]
    },
    {
     "name": "stdout",
     "output_type": "stream",
     "text": [
      "precision: 0.0, recall: 0.0, f1:0.0, \n",
      "\n",
      "KFlod :  6\n",
      "Start training : \n",
      "\n",
      "Fitting 5 folds for each of 4 candidates, totalling 20 fits\n"
     ]
    },
    {
     "name": "stderr",
     "output_type": "stream",
     "text": [
      "C:\\Users\\manoh\\anaconda3\\lib\\site-packages\\sklearn\\metrics\\_classification.py:1327: UndefinedMetricWarning: Precision is ill-defined and being set to 0.0 due to no predicted samples. Use `zero_division` parameter to control this behavior.\n",
      "  _warn_prf(average, modifier, msg_start, len(result))\n"
     ]
    },
    {
     "name": "stdout",
     "output_type": "stream",
     "text": [
      "precision: 0.0, recall: 0.0, f1:0.0, \n",
      "\n",
      "KFlod :  7\n",
      "Start training : \n",
      "\n",
      "Fitting 5 folds for each of 4 candidates, totalling 20 fits\n"
     ]
    },
    {
     "name": "stderr",
     "output_type": "stream",
     "text": [
      "C:\\Users\\manoh\\anaconda3\\lib\\site-packages\\sklearn\\metrics\\_classification.py:1327: UndefinedMetricWarning: Precision is ill-defined and being set to 0.0 due to no predicted samples. Use `zero_division` parameter to control this behavior.\n",
      "  _warn_prf(average, modifier, msg_start, len(result))\n"
     ]
    },
    {
     "name": "stdout",
     "output_type": "stream",
     "text": [
      "precision: 0.0, recall: 0.0, f1:0.0, \n",
      "\n",
      "KFlod :  8\n",
      "Start training : \n",
      "\n",
      "Fitting 5 folds for each of 4 candidates, totalling 20 fits\n"
     ]
    },
    {
     "name": "stderr",
     "output_type": "stream",
     "text": [
      "C:\\Users\\manoh\\anaconda3\\lib\\site-packages\\sklearn\\metrics\\_classification.py:1327: UndefinedMetricWarning: Precision is ill-defined and being set to 0.0 due to no predicted samples. Use `zero_division` parameter to control this behavior.\n",
      "  _warn_prf(average, modifier, msg_start, len(result))\n"
     ]
    },
    {
     "name": "stdout",
     "output_type": "stream",
     "text": [
      "precision: 0.0, recall: 0.0, f1:0.0, \n",
      "\n",
      "KFlod :  9\n",
      "Start training : \n",
      "\n",
      "Fitting 5 folds for each of 4 candidates, totalling 20 fits\n"
     ]
    },
    {
     "name": "stderr",
     "output_type": "stream",
     "text": [
      "C:\\Users\\manoh\\anaconda3\\lib\\site-packages\\sklearn\\metrics\\_classification.py:1327: UndefinedMetricWarning: Precision is ill-defined and being set to 0.0 due to no predicted samples. Use `zero_division` parameter to control this behavior.\n",
      "  _warn_prf(average, modifier, msg_start, len(result))\n"
     ]
    },
    {
     "name": "stdout",
     "output_type": "stream",
     "text": [
      "precision: 0.0, recall: 0.0, f1:0.0, \n",
      "\n",
      "Elapsed time:  1.354  Minutes\n",
      "\tnode2vec_cg\n",
      "KFlod :  0\n",
      "Start training : \n",
      "\n",
      "Fitting 5 folds for each of 4 candidates, totalling 20 fits\n",
      "precision: 0.75, recall: 0.3, f1:0.429, \n",
      "\n",
      "KFlod :  1\n",
      "Start training : \n",
      "\n",
      "Fitting 5 folds for each of 4 candidates, totalling 20 fits\n",
      "precision: 0.5, recall: 0.1, f1:0.167, \n",
      "\n",
      "KFlod :  2\n",
      "Start training : \n",
      "\n",
      "Fitting 5 folds for each of 4 candidates, totalling 20 fits\n",
      "precision: 0.4, recall: 0.222, f1:0.286, \n",
      "\n",
      "KFlod :  3\n",
      "Start training : \n",
      "\n",
      "Fitting 5 folds for each of 4 candidates, totalling 20 fits\n",
      "precision: 0.0, recall: 0.0, f1:0.0, \n",
      "\n",
      "KFlod :  4\n",
      "Start training : \n",
      "\n",
      "Fitting 5 folds for each of 4 candidates, totalling 20 fits\n",
      "precision: 0.5, recall: 0.182, f1:0.267, \n",
      "\n",
      "KFlod :  5\n",
      "Start training : \n",
      "\n",
      "Fitting 5 folds for each of 4 candidates, totalling 20 fits\n",
      "precision: 0.333, recall: 0.333, f1:0.333, \n",
      "\n",
      "KFlod :  6\n",
      "Start training : \n",
      "\n",
      "Fitting 5 folds for each of 4 candidates, totalling 20 fits\n",
      "precision: 0.0, recall: 0.0, f1:0.0, \n",
      "\n",
      "KFlod :  7\n",
      "Start training : \n",
      "\n",
      "Fitting 5 folds for each of 4 candidates, totalling 20 fits\n",
      "precision: 0.0, recall: 0.0, f1:0.0, \n",
      "\n",
      "KFlod :  8\n",
      "Start training : \n",
      "\n",
      "Fitting 5 folds for each of 4 candidates, totalling 20 fits\n",
      "precision: 0.0, recall: 0.0, f1:0.0, \n",
      "\n",
      "KFlod :  9\n",
      "Start training : \n",
      "\n",
      "Fitting 5 folds for each of 4 candidates, totalling 20 fits\n",
      "precision: 0.4, recall: 0.286, f1:0.333, \n",
      "\n",
      "Elapsed time:  0.851  Minutes\n",
      "\tprone_cg\n",
      "KFlod :  0\n",
      "Start training : \n",
      "\n",
      "Fitting 5 folds for each of 4 candidates, totalling 20 fits\n"
     ]
    },
    {
     "name": "stderr",
     "output_type": "stream",
     "text": [
      "C:\\Users\\manoh\\anaconda3\\lib\\site-packages\\sklearn\\metrics\\_classification.py:1327: UndefinedMetricWarning: Precision is ill-defined and being set to 0.0 due to no predicted samples. Use `zero_division` parameter to control this behavior.\n",
      "  _warn_prf(average, modifier, msg_start, len(result))\n"
     ]
    },
    {
     "name": "stdout",
     "output_type": "stream",
     "text": [
      "precision: 0.0, recall: 0.0, f1:0.0, \n",
      "\n",
      "KFlod :  1\n",
      "Start training : \n",
      "\n",
      "Fitting 5 folds for each of 4 candidates, totalling 20 fits\n",
      "precision: 0.0, recall: 0.0, f1:0.0, \n",
      "\n",
      "KFlod :  2\n",
      "Start training : \n",
      "\n",
      "Fitting 5 folds for each of 4 candidates, totalling 20 fits\n",
      "precision: 0.0, recall: 0.0, f1:0.0, \n",
      "\n",
      "KFlod :  3\n",
      "Start training : \n",
      "\n",
      "Fitting 5 folds for each of 4 candidates, totalling 20 fits\n"
     ]
    },
    {
     "name": "stderr",
     "output_type": "stream",
     "text": [
      "C:\\Users\\manoh\\anaconda3\\lib\\site-packages\\sklearn\\metrics\\_classification.py:1327: UndefinedMetricWarning: Precision is ill-defined and being set to 0.0 due to no predicted samples. Use `zero_division` parameter to control this behavior.\n",
      "  _warn_prf(average, modifier, msg_start, len(result))\n"
     ]
    },
    {
     "name": "stdout",
     "output_type": "stream",
     "text": [
      "precision: 0.0, recall: 0.0, f1:0.0, \n",
      "\n",
      "KFlod :  4\n",
      "Start training : \n",
      "\n",
      "Fitting 5 folds for each of 4 candidates, totalling 20 fits\n"
     ]
    },
    {
     "name": "stderr",
     "output_type": "stream",
     "text": [
      "C:\\Users\\manoh\\anaconda3\\lib\\site-packages\\sklearn\\metrics\\_classification.py:1327: UndefinedMetricWarning: Precision is ill-defined and being set to 0.0 due to no predicted samples. Use `zero_division` parameter to control this behavior.\n",
      "  _warn_prf(average, modifier, msg_start, len(result))\n"
     ]
    },
    {
     "name": "stdout",
     "output_type": "stream",
     "text": [
      "precision: 0.0, recall: 0.0, f1:0.0, \n",
      "\n",
      "KFlod :  5\n",
      "Start training : \n",
      "\n",
      "Fitting 5 folds for each of 4 candidates, totalling 20 fits\n",
      "precision: 0.0, recall: 0.0, f1:0.0, \n",
      "\n",
      "KFlod :  6\n",
      "Start training : \n",
      "\n",
      "Fitting 5 folds for each of 4 candidates, totalling 20 fits\n",
      "precision: 0.0, recall: 0.0, f1:0.0, \n",
      "\n",
      "KFlod :  7\n",
      "Start training : \n",
      "\n",
      "Fitting 5 folds for each of 4 candidates, totalling 20 fits\n",
      "precision: 0.5, recall: 0.1, f1:0.167, \n",
      "\n",
      "KFlod :  8\n",
      "Start training : \n",
      "\n",
      "Fitting 5 folds for each of 4 candidates, totalling 20 fits\n"
     ]
    },
    {
     "name": "stderr",
     "output_type": "stream",
     "text": [
      "C:\\Users\\manoh\\anaconda3\\lib\\site-packages\\sklearn\\metrics\\_classification.py:1327: UndefinedMetricWarning: Precision is ill-defined and being set to 0.0 due to no predicted samples. Use `zero_division` parameter to control this behavior.\n",
      "  _warn_prf(average, modifier, msg_start, len(result))\n"
     ]
    },
    {
     "name": "stdout",
     "output_type": "stream",
     "text": [
      "precision: 0.0, recall: 0.0, f1:0.0, \n",
      "\n",
      "KFlod :  9\n",
      "Start training : \n",
      "\n",
      "Fitting 5 folds for each of 4 candidates, totalling 20 fits\n",
      "precision: 0.0, recall: 0.0, f1:0.0, \n",
      "\n",
      "Elapsed time:  1.011  Minutes\n",
      "\tsdne_cg\n",
      "KFlod :  0\n",
      "Start training : \n",
      "\n",
      "Fitting 5 folds for each of 4 candidates, totalling 20 fits\n",
      "precision: 0.0, recall: 0.0, f1:0.0, \n",
      "\n",
      "KFlod :  1\n",
      "Start training : \n",
      "\n",
      "Fitting 5 folds for each of 4 candidates, totalling 20 fits\n",
      "precision: 0.25, recall: 0.125, f1:0.167, \n",
      "\n",
      "KFlod :  2\n",
      "Start training : \n",
      "\n",
      "Fitting 5 folds for each of 4 candidates, totalling 20 fits\n",
      "precision: 0.6, recall: 0.231, f1:0.333, \n",
      "\n",
      "KFlod :  3\n",
      "Start training : \n",
      "\n",
      "Fitting 5 folds for each of 4 candidates, totalling 20 fits\n",
      "precision: 0.0, recall: 0.0, f1:0.0, \n",
      "\n",
      "KFlod :  4\n",
      "Start training : \n",
      "\n",
      "Fitting 5 folds for each of 4 candidates, totalling 20 fits\n",
      "precision: 0.333, recall: 0.2, f1:0.25, \n",
      "\n",
      "KFlod :  5\n",
      "Start training : \n",
      "\n",
      "Fitting 5 folds for each of 4 candidates, totalling 20 fits\n",
      "precision: 0.2, recall: 0.125, f1:0.154, \n",
      "\n",
      "KFlod :  6\n",
      "Start training : \n",
      "\n",
      "Fitting 5 folds for each of 4 candidates, totalling 20 fits\n",
      "precision: 0.2, recall: 0.25, f1:0.222, \n",
      "\n",
      "KFlod :  7\n",
      "Start training : \n",
      "\n",
      "Fitting 5 folds for each of 4 candidates, totalling 20 fits\n",
      "precision: 0.25, recall: 0.0909, f1:0.133, \n",
      "\n",
      "KFlod :  8\n",
      "Start training : \n",
      "\n",
      "Fitting 5 folds for each of 4 candidates, totalling 20 fits\n",
      "precision: 0.0, recall: 0.0, f1:0.0, \n",
      "\n",
      "KFlod :  9\n",
      "Start training : \n",
      "\n",
      "Fitting 5 folds for each of 4 candidates, totalling 20 fits\n",
      "precision: 0.0, recall: 0.0, f1:0.0, \n",
      "\n",
      "Elapsed time:  0.994  Minutes\n",
      "\twalklets_cg\n",
      "KFlod :  0\n",
      "Start training : \n",
      "\n",
      "Fitting 5 folds for each of 4 candidates, totalling 20 fits\n",
      "precision: 0.0, recall: 0.0, f1:0.0, \n",
      "\n",
      "KFlod :  1\n",
      "Start training : \n",
      "\n",
      "Fitting 5 folds for each of 4 candidates, totalling 20 fits\n",
      "precision: 0.5, recall: 0.375, f1:0.429, \n",
      "\n",
      "KFlod :  2\n",
      "Start training : \n",
      "\n",
      "Fitting 5 folds for each of 4 candidates, totalling 20 fits\n",
      "precision: 0.5, recall: 0.2, f1:0.286, \n",
      "\n",
      "KFlod :  3\n",
      "Start training : \n",
      "\n",
      "Fitting 5 folds for each of 4 candidates, totalling 20 fits\n",
      "precision: 0.6, recall: 0.667, f1:0.632, \n",
      "\n",
      "KFlod :  4\n",
      "Start training : \n",
      "\n",
      "Fitting 5 folds for each of 4 candidates, totalling 20 fits\n",
      "precision: 0.0, recall: 0.0, f1:0.0, \n",
      "\n",
      "KFlod :  5\n",
      "Start training : \n",
      "\n",
      "Fitting 5 folds for each of 4 candidates, totalling 20 fits\n",
      "precision: 0.5, recall: 0.5, f1:0.5, \n",
      "\n",
      "KFlod :  6\n",
      "Start training : \n",
      "\n",
      "Fitting 5 folds for each of 4 candidates, totalling 20 fits\n",
      "precision: 0.5, recall: 0.167, f1:0.25, \n",
      "\n",
      "KFlod :  7\n",
      "Start training : \n",
      "\n",
      "Fitting 5 folds for each of 4 candidates, totalling 20 fits\n",
      "precision: 0.0, recall: 0.0, f1:0.0, \n",
      "\n",
      "KFlod :  8\n",
      "Start training : \n",
      "\n",
      "Fitting 5 folds for each of 4 candidates, totalling 20 fits\n",
      "precision: 0.0, recall: 0.0, f1:0.0, \n",
      "\n",
      "KFlod :  9\n",
      "Start training : \n",
      "\n",
      "Fitting 5 folds for each of 4 candidates, totalling 20 fits\n",
      "precision: 0.0, recall: 0.0, f1:0.0, \n",
      "\n",
      "Elapsed time:  0.803  Minutes\n"
     ]
    }
   ],
   "source": [
    "''' \n",
    "    Change the input path accordingly\n",
    "'''\n",
    "\n",
    "train_dir = r\"C:\\Users\\manoh\\Documents\\Project_DSCI\\rems_modified\\Training_CSV\"\n",
    "\n",
    "Final_Results = {}\n",
    "# for Code_Emb in os.listdir(train_dir):\n",
    "for Code_Emb in ['PLBART']:\n",
    "    \n",
    "    print(Code_Emb)\n",
    "        \n",
    "    Final_Results[Code_Emb] = {}\n",
    "    \n",
    "    for Tree_Emb in os.listdir(train_dir+\"\\\\\"+Code_Emb):\n",
    "        print(\"\\t\"+Tree_Emb.split(\".\")[0])\n",
    "        \n",
    "        if Tree_Emb == \"deepwalk_cg.csv\":\n",
    "            continue\n",
    "        \n",
    "        curr_dir = train_dir+\"\\\\\"+Code_Emb+\"\\\\\"+Tree_Emb\n",
    "        \n",
    "        data = pd.read_csv(curr_dir, header=None)\n",
    "        \n",
    "        X = data.iloc[:, :-1]\n",
    "        y = data.iloc[:, -1]\n",
    "\n",
    "        # Get the current time\n",
    "        start_time = time.time()\n",
    "\n",
    "        # Execute some code you want to time\n",
    "        Results = KFold_Validation(X, y, nSplits = 10)\n",
    "\n",
    "        # Get the elapsed time\n",
    "        elapsed_time = round((time.time() - start_time)/60, 3)\n",
    "\n",
    "        print(\"Elapsed time: \", elapsed_time, \" Minutes\")\n",
    "        \n",
    "        results_ = pd.DataFrame(Results, index=[\"Precision\", \"Recall\", \"F1\"]).T\n",
    "        \n",
    "    \n",
    "        Final_Results[Code_Emb][Tree_Emb.split(\".\")[0]] = dict(results_.describe().loc[\"mean\"])\n",
    "        \n",
    "        \n"
   ]
  },
  {
   "cell_type": "markdown",
   "id": "8c4bbc5e",
   "metadata": {},
   "source": [
    "## Final Output File"
   ]
  },
  {
   "cell_type": "code",
   "execution_count": 17,
   "id": "2505814a",
   "metadata": {},
   "outputs": [],
   "source": [
    "df = pd.DataFrame(Final_Results)\n",
    "\n",
    "dic = {}\n",
    "i = 0\n",
    "for code_emb in df.columns:\n",
    "    for tree_emb in df.index:\n",
    "        dic[i] = (code_emb, tree_emb, df.loc[tree_emb, code_emb]['Precision'], df.loc[tree_emb, code_emb]['Recall'], df.loc[tree_emb, code_emb]['F1'])\n",
    "        i+=1\n",
    "output = pd.DataFrame(dic, index = [\"CodeGraph\", \"TreeGraph\", \"Prec\", \"Recall\", \"F1\"]).T\n",
    "\n",
    "output.to_csv(\"SVM_Results_2.csv\")"
   ]
  },
  {
   "cell_type": "code",
   "execution_count": 18,
   "id": "be7afc50",
   "metadata": {},
   "outputs": [
    {
     "data": {
      "text/html": [
       "<div>\n",
       "<style scoped>\n",
       "    .dataframe tbody tr th:only-of-type {\n",
       "        vertical-align: middle;\n",
       "    }\n",
       "\n",
       "    .dataframe tbody tr th {\n",
       "        vertical-align: top;\n",
       "    }\n",
       "\n",
       "    .dataframe thead th {\n",
       "        text-align: right;\n",
       "    }\n",
       "</style>\n",
       "<table border=\"1\" class=\"dataframe\">\n",
       "  <thead>\n",
       "    <tr style=\"text-align: right;\">\n",
       "      <th></th>\n",
       "      <th>CodeGraph</th>\n",
       "      <th>TreeGraph</th>\n",
       "      <th>Prec</th>\n",
       "      <th>Recall</th>\n",
       "      <th>F1</th>\n",
       "    </tr>\n",
       "  </thead>\n",
       "  <tbody>\n",
       "    <tr>\n",
       "      <th>0</th>\n",
       "      <td>PLBART</td>\n",
       "      <td>grarep_cg</td>\n",
       "      <td>0.0</td>\n",
       "      <td>0.0</td>\n",
       "      <td>0.0</td>\n",
       "    </tr>\n",
       "    <tr>\n",
       "      <th>1</th>\n",
       "      <td>PLBART</td>\n",
       "      <td>line_cg</td>\n",
       "      <td>0.0</td>\n",
       "      <td>0.0</td>\n",
       "      <td>0.0</td>\n",
       "    </tr>\n",
       "    <tr>\n",
       "      <th>2</th>\n",
       "      <td>PLBART</td>\n",
       "      <td>node2vec_cg</td>\n",
       "      <td>0.288333</td>\n",
       "      <td>0.142309</td>\n",
       "      <td>0.181429</td>\n",
       "    </tr>\n",
       "    <tr>\n",
       "      <th>3</th>\n",
       "      <td>PLBART</td>\n",
       "      <td>prone_cg</td>\n",
       "      <td>0.05</td>\n",
       "      <td>0.01</td>\n",
       "      <td>0.016667</td>\n",
       "    </tr>\n",
       "    <tr>\n",
       "      <th>4</th>\n",
       "      <td>PLBART</td>\n",
       "      <td>sdne_cg</td>\n",
       "      <td>0.183333</td>\n",
       "      <td>0.102168</td>\n",
       "      <td>0.12594</td>\n",
       "    </tr>\n",
       "    <tr>\n",
       "      <th>5</th>\n",
       "      <td>PLBART</td>\n",
       "      <td>walklets_cg</td>\n",
       "      <td>0.26</td>\n",
       "      <td>0.190833</td>\n",
       "      <td>0.209586</td>\n",
       "    </tr>\n",
       "  </tbody>\n",
       "</table>\n",
       "</div>"
      ],
      "text/plain": [
       "  CodeGraph    TreeGraph      Prec    Recall        F1\n",
       "0    PLBART    grarep_cg       0.0       0.0       0.0\n",
       "1    PLBART      line_cg       0.0       0.0       0.0\n",
       "2    PLBART  node2vec_cg  0.288333  0.142309  0.181429\n",
       "3    PLBART     prone_cg      0.05      0.01  0.016667\n",
       "4    PLBART      sdne_cg  0.183333  0.102168   0.12594\n",
       "5    PLBART  walklets_cg      0.26  0.190833  0.209586"
      ]
     },
     "execution_count": 18,
     "metadata": {},
     "output_type": "execute_result"
    }
   ],
   "source": [
    "output"
   ]
  },
  {
   "cell_type": "code",
   "execution_count": null,
   "id": "299be64b",
   "metadata": {},
   "outputs": [],
   "source": []
  },
  {
   "cell_type": "code",
   "execution_count": null,
   "id": "7b9dca9b",
   "metadata": {},
   "outputs": [],
   "source": []
  }
 ],
 "metadata": {
  "kernelspec": {
   "display_name": "Python 3 (ipykernel)",
   "language": "python",
   "name": "python3"
  },
  "language_info": {
   "codemirror_mode": {
    "name": "ipython",
    "version": 3
   },
   "file_extension": ".py",
   "mimetype": "text/x-python",
   "name": "python",
   "nbconvert_exporter": "python",
   "pygments_lexer": "ipython3",
   "version": "3.9.12"
  }
 },
 "nbformat": 4,
 "nbformat_minor": 5
}
